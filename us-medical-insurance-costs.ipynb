{
 "cells": [
  {
   "cell_type": "markdown",
   "metadata": {},
   "source": [
    "# U.S. Medical Insurance Costs\n",
    "by Eduardo Leon Saldaña"
   ]
  },
  {
   "cell_type": "code",
   "execution_count": 1,
   "metadata": {},
   "outputs": [],
   "source": [
    "#Importing the libraries\n",
    "import pandas as pd\n",
    "from matplotlib import pyplot as plt\n",
    "import seaborn as sns\n",
    "import numpy as np\n",
    "\n",
    "%matplotlib inline "
   ]
  },
  {
   "cell_type": "code",
   "execution_count": 2,
   "metadata": {},
   "outputs": [
    {
     "name": "stdout",
     "output_type": "stream",
     "text": [
      "   age     sex     bmi  children smoker     region      charges\n",
      "0   19  female  27.900         0    yes  southwest  16884.92400\n",
      "1   18    male  33.770         1     no  southeast   1725.55230\n",
      "2   28    male  33.000         3     no  southeast   4449.46200\n",
      "3   33    male  22.705         0     no  northwest  21984.47061\n",
      "4   32    male  28.880         0     no  northwest   3866.85520\n",
      "5   31  female  25.740         0     no  southeast   3756.62160\n",
      "6   46  female  33.440         1     no  southeast   8240.58960\n",
      "7   37  female  27.740         3     no  northwest   7281.50560\n",
      "8   37    male  29.830         2     no  northeast   6406.41070\n",
      "9   60  female  25.840         0     no  northwest  28923.13692\n"
     ]
    }
   ],
   "source": [
    "#Setting up the dataframe\n",
    "insurance_data = pd.read_csv(\"insurance.csv\")\n",
    "\n",
    "#Taking a look at the data\n",
    "print(insurance_data.head(10))"
   ]
  },
  {
   "cell_type": "markdown",
   "metadata": {},
   "source": [
    "The file is loaded as a DataFrame in pandas, now apply the describe method to explore the statistics on the Charges column:"
   ]
  },
  {
   "cell_type": "code",
   "execution_count": 3,
   "metadata": {},
   "outputs": [
    {
     "data": {
      "text/plain": [
       "count     1338.000000\n",
       "mean     13270.422265\n",
       "std      12110.011237\n",
       "min       1121.873900\n",
       "25%       4740.287150\n",
       "50%       9382.033000\n",
       "75%      16639.912515\n",
       "max      63770.428010\n",
       "Name: charges, dtype: float64"
      ]
     },
     "execution_count": 3,
     "metadata": {},
     "output_type": "execute_result"
    }
   ],
   "source": [
    "insurance_data[\"charges\"].describe()"
   ]
  },
  {
   "cell_type": "code",
   "execution_count": 4,
   "metadata": {},
   "outputs": [
    {
     "data": {
      "text/plain": [
       "<matplotlib.axes._subplots.AxesSubplot at 0x1f2326ab880>"
      ]
     },
     "execution_count": 4,
     "metadata": {},
     "output_type": "execute_result"
    },
    {
     "data": {
      "image/png": "[encoded data removed]",
      "text/plain": [
       "<Figure size 432x288 with 1 Axes>"
      ]
     },
     "metadata": {
      "needs_background": "light"
     },
     "output_type": "display_data"
    }
   ],
   "source": [
    "sns.distplot(insurance_data[\"charges\"])"
   ]
  },
  {
   "cell_type": "code",
   "execution_count": 5,
   "metadata": {},
   "outputs": [
    {
     "data": {
      "text/plain": [
       "1.5158796580240388"
      ]
     },
     "execution_count": 5,
     "metadata": {},
     "output_type": "execute_result"
    }
   ],
   "source": [
    "insurance_data[\"charges\"].skew()"
   ]
  },
  {
   "cell_type": "code",
   "execution_count": 6,
   "metadata": {},
   "outputs": [
    {
     "data": {
      "text/plain": [
       "1.6062986532967907"
      ]
     },
     "execution_count": 6,
     "metadata": {},
     "output_type": "execute_result"
    }
   ],
   "source": [
    "insurance_data[\"charges\"].kurt()"
   ]
  },
  {
   "cell_type": "markdown",
   "metadata": {},
   "source": [
    "The data has a non normal distribution due its skewness to the right due most of the lower bounds are too low in comparison of the outliers. A correlation array could help to spot the relevant variables that has some impact on the Chargers variable.    "
   ]
  },
  {
   "cell_type": "code",
   "execution_count": 7,
   "metadata": {},
   "outputs": [
    {
     "data": {
      "text/plain": [
       "<matplotlib.axes._subplots.AxesSubplot at 0x1f2327c7790>"
      ]
     },
     "execution_count": 7,
     "metadata": {},
     "output_type": "execute_result"
    },
    {
     "data": {
      "image/png": "[encoded data removed]",
      "text/plain": [
       "<Figure size 576x432 with 2 Axes>"
      ]
     },
     "metadata": {
      "needs_background": "light"
     },
     "output_type": "display_data"
    }
   ],
   "source": [
    "corremat = insurance_data.corr()\n",
    "f, ax = plt.subplots(figsize = (8,6))\n",
    "sns.heatmap(corremat, vmax= 1.0, square = True)"
   ]
  },
  {
   "cell_type": "markdown",
   "metadata": {},
   "source": [
    "It looks that the Chargers variable have some correlation with the variables BMI and Age, those 2 will be the ones to explore."
   ]
  },
  {
   "cell_type": "markdown",
   "metadata": {},
   "source": [
    "### Medical Insurance Costs by Age"
   ]
  },
  {
   "cell_type": "code",
   "execution_count": 8,
   "metadata": {},
   "outputs": [
    {
     "name": "stdout",
     "output_type": "stream",
     "text": [
      "[18 19 20 21 22 23 24 25 26 27 28 29 30 31 32 33 34 35 36 37 38 39 40 41\n",
      " 42 43 44 45 46 47 48 49 50 51 52 53 54 55 56 57 58 59 60 61 62 63 64]\n"
     ]
    }
   ],
   "source": [
    "#Using the Numpy method \"Unique\" to retrieve all the unique values in the age column\n",
    "print(np.unique(insurance_data[\"age\"].values))"
   ]
  },
  {
   "cell_type": "markdown",
   "metadata": {},
   "source": [
    "The insurance data shows multiple ages, starting from 18 to 64 so includes every type of generation by age range.According to the market research firm Beresford Research these are the updated birth years and ages by generation:\n",
    "\n",
    "| Generation     | Born         | Ages         |\n",
    "| :------------- | :----------: | -----------: |\n",
    "|  Gen Z         | 1997 - 2012  | 9 - 24       |\n",
    "| Millenials     | 1981 - 1996  | 25 - 40      |\n",
    "| Gen X          | 1965 - 1980  | 41 - 56      |\n",
    "| Baby Boomers   | 1955 - 1964  | 57 - 66      |\n",
    "\n",
    "\n",
    "source: https://www.beresfordresearch.com/age-range-by-generation/"
   ]
  },
  {
   "cell_type": "code",
   "execution_count": 9,
   "metadata": {},
   "outputs": [
    {
     "name": "stdout",
     "output_type": "stream",
     "text": [
      "   age     bmi  children smoker     region      charges     sex\n",
      "0   19  27.900         0    yes  southwest  16884.92400  female\n",
      "1   18  33.770         1     no  southeast   1725.55230    male\n",
      "2   28  33.000         3     no  southeast   4449.46200    male\n",
      "3   33  22.705         0     no  northwest  21984.47061    male\n",
      "4   32  28.880         0     no  northwest   3866.85520    male\n"
     ]
    }
   ],
   "source": [
    "#Setting up the DataFrame\n",
    "insurance_df = pd.DataFrame(insurance_data, columns = [\"age\", \"bmi\", \"children\", \"smoker\", \"region\", \"charges\", \"sex\"])\n",
    "\n",
    "#Styling the table\n",
    "print(insurance_df.head())"
   ]
  },
  {
   "cell_type": "code",
   "execution_count": 10,
   "metadata": {},
   "outputs": [],
   "source": [
    "#Currency format function, will come handy later on\n",
    "def currency(x):\n",
    "    return \"${:.1f}K\".format(x/1000)"
   ]
  },
  {
   "cell_type": "code",
   "execution_count": 11,
   "metadata": {},
   "outputs": [],
   "source": [
    "#Adding the generation group row into a new DF\n",
    "\n",
    "generation_df = pd.DataFrame(insurance_data, columns = [\"age\", \"charges\", \"sex\", \"bmi\", \"smoker\"])\n",
    "generation_df.loc[generation_df[\"age\"] < 24, \"Generation group\"] = \"Gen Z\"\n",
    "generation_df.loc[(generation_df[\"age\"] > 24) & (generation_df[\"age\"] <=40), \"Generation group\"] = \"Millenial\"\n",
    "generation_df.loc[(generation_df[\"age\"] > 40) & (generation_df[\"age\"] <= 56), \"Generation group\"] = \"Gen X\"\n",
    "generation_df.loc[(generation_df[\"age\"] > 56), \"Generation group\"] = \"Baby Boomer\""
   ]
  },
  {
   "cell_type": "code",
   "execution_count": 12,
   "metadata": {},
   "outputs": [
    {
     "data": {
      "text/html": [
       "<div>\n",
       "<style scoped>\n",
       "    .dataframe tbody tr th:only-of-type {\n",
       "        vertical-align: middle;\n",
       "    }\n",
       "\n",
       "    .dataframe tbody tr th {\n",
       "        vertical-align: top;\n",
       "    }\n",
       "\n",
       "    .dataframe thead th {\n",
       "        text-align: right;\n",
       "    }\n",
       "</style>\n",
       "<table border=\"1\" class=\"dataframe\">\n",
       "  <thead>\n",
       "    <tr style=\"text-align: right;\">\n",
       "      <th></th>\n",
       "      <th>Generation group</th>\n",
       "      <th>charges</th>\n",
       "    </tr>\n",
       "  </thead>\n",
       "  <tbody>\n",
       "    <tr>\n",
       "      <th>0</th>\n",
       "      <td>Baby Boomer</td>\n",
       "      <td>$19.3K</td>\n",
       "    </tr>\n",
       "    <tr>\n",
       "      <th>1</th>\n",
       "      <td>Gen X</td>\n",
       "      <td>$15.5K</td>\n",
       "    </tr>\n",
       "    <tr>\n",
       "      <th>2</th>\n",
       "      <td>Gen Z</td>\n",
       "      <td>$8.8K</td>\n",
       "    </tr>\n",
       "    <tr>\n",
       "      <th>3</th>\n",
       "      <td>Millenial</td>\n",
       "      <td>$11.0K</td>\n",
       "    </tr>\n",
       "  </tbody>\n",
       "</table>\n",
       "</div>"
      ],
      "text/plain": [
       "  Generation group charges\n",
       "0      Baby Boomer  $19.3K\n",
       "1            Gen X  $15.5K\n",
       "2            Gen Z   $8.8K\n",
       "3        Millenial  $11.0K"
      ]
     },
     "execution_count": 12,
     "metadata": {},
     "output_type": "execute_result"
    }
   ],
   "source": [
    "#Averages Medical Insurance Costs by Generation Group\n",
    "generation_df.groupby([\"Generation group\"])[\"charges\"].mean().apply(currency).reset_index()"
   ]
  },
  {
   "cell_type": "code",
   "execution_count": 13,
   "metadata": {},
   "outputs": [
    {
     "data": {
      "text/plain": [
       "(-0.5, 3.5, 0.0, 75000.0)"
      ]
     },
     "execution_count": 13,
     "metadata": {},
     "output_type": "execute_result"
    },
    {
     "data": {
      "image/png": "[encoded data removed]",
      "text/plain": [
       "<Figure size 576x432 with 1 Axes>"
      ]
     },
     "metadata": {
      "needs_background": "light"
     },
     "output_type": "display_data"
    }
   ],
   "source": [
    "#Boxplots by Generation groups\n",
    "var = \"Generation group\"\n",
    "\n",
    "data = pd.concat([generation_df[\"charges\"], generation_df[var]], axis=1)\n",
    "f, ax = plt.subplots(figsize=(8,6))\n",
    "fig =sns.boxplot(x=var, y=\"charges\", data = data)\n",
    "fig.axis(ymin=0,ymax=75000)"
   ]
  },
  {
   "cell_type": "markdown",
   "metadata": {},
   "source": [
    "The Baby Boomer generation are the one who paid more for insurance costs and on the other hand the younger generations paid small amounts in comparison of the older generations, on the boxplot the older you get more expensive your medical insurance cost will be. On the data are some outliers that increases the chargers considerably having in mind the maximum value by each generation group."
   ]
  },
  {
   "cell_type": "code",
   "execution_count": 26,
   "metadata": {},
   "outputs": [
    {
     "data": {
      "image/png": "[encoded data removed]",
      "text/plain": [
       "<Figure size 432x288 with 1 Axes>"
      ]
     },
     "metadata": {},
     "output_type": "display_data"
    }
   ],
   "source": [
    "#Plotting the Generation Groups by average charge\n",
    "\n",
    "generations = [\"Baby Boomer\", \"Gen X\", \"Gen Z\", \"Millenial\"]\n",
    "averages = [19300, 15500, 8800, 11000]\n",
    "plt.style.use(\"ggplot\")\n",
    "plt.barh(generations, averages)\n",
    "plt.title(\"Average Insurance Costs by Generation Group\")\n",
    "plt.xlabel(\"Thousands of Dollars\")\n",
    "plt.ylabel(\"Generation Group\")\n",
    "plt.show()"
   ]
  },
  {
   "cell_type": "markdown",
   "metadata": {},
   "source": [
    "Baby Boomer also paid the most charges in average, older generations are more expensive. By adding the sex variable into the generation group will indicates if a sex tend to paid more than other. "
   ]
  },
  {
   "cell_type": "code",
   "execution_count": 27,
   "metadata": {},
   "outputs": [
    {
     "data": {
      "text/html": [
       "<div>\n",
       "<style scoped>\n",
       "    .dataframe tbody tr th:only-of-type {\n",
       "        vertical-align: middle;\n",
       "    }\n",
       "\n",
       "    .dataframe tbody tr th {\n",
       "        vertical-align: top;\n",
       "    }\n",
       "\n",
       "    .dataframe thead th {\n",
       "        text-align: right;\n",
       "    }\n",
       "</style>\n",
       "<table border=\"1\" class=\"dataframe\">\n",
       "  <thead>\n",
       "    <tr style=\"text-align: right;\">\n",
       "      <th></th>\n",
       "      <th>Generation group</th>\n",
       "      <th>sex</th>\n",
       "      <th>charges</th>\n",
       "    </tr>\n",
       "  </thead>\n",
       "  <tbody>\n",
       "    <tr>\n",
       "      <th>0</th>\n",
       "      <td>Baby Boomer</td>\n",
       "      <td>female</td>\n",
       "      <td>$18.9K</td>\n",
       "    </tr>\n",
       "    <tr>\n",
       "      <th>1</th>\n",
       "      <td>Baby Boomer</td>\n",
       "      <td>male</td>\n",
       "      <td>$19.8K</td>\n",
       "    </tr>\n",
       "    <tr>\n",
       "      <th>2</th>\n",
       "      <td>Gen X</td>\n",
       "      <td>female</td>\n",
       "      <td>$14.6K</td>\n",
       "    </tr>\n",
       "    <tr>\n",
       "      <th>3</th>\n",
       "      <td>Gen X</td>\n",
       "      <td>male</td>\n",
       "      <td>$16.4K</td>\n",
       "    </tr>\n",
       "    <tr>\n",
       "      <th>4</th>\n",
       "      <td>Gen Z</td>\n",
       "      <td>female</td>\n",
       "      <td>$8.9K</td>\n",
       "    </tr>\n",
       "    <tr>\n",
       "      <th>5</th>\n",
       "      <td>Gen Z</td>\n",
       "      <td>male</td>\n",
       "      <td>$8.8K</td>\n",
       "    </tr>\n",
       "    <tr>\n",
       "      <th>6</th>\n",
       "      <td>Millenial</td>\n",
       "      <td>female</td>\n",
       "      <td>$10.0K</td>\n",
       "    </tr>\n",
       "    <tr>\n",
       "      <th>7</th>\n",
       "      <td>Millenial</td>\n",
       "      <td>male</td>\n",
       "      <td>$12.0K</td>\n",
       "    </tr>\n",
       "  </tbody>\n",
       "</table>\n",
       "</div>"
      ],
      "text/plain": [
       "  Generation group     sex charges\n",
       "0      Baby Boomer  female  $18.9K\n",
       "1      Baby Boomer    male  $19.8K\n",
       "2            Gen X  female  $14.6K\n",
       "3            Gen X    male  $16.4K\n",
       "4            Gen Z  female   $8.9K\n",
       "5            Gen Z    male   $8.8K\n",
       "6        Millenial  female  $10.0K\n",
       "7        Millenial    male  $12.0K"
      ]
     },
     "execution_count": 27,
     "metadata": {},
     "output_type": "execute_result"
    }
   ],
   "source": [
    "#Grouping the dataframe with Generation group & Sex\n",
    "generation_df.groupby([\"Generation group\", \"sex\"])[\"charges\"].mean().apply(currency).reset_index()"
   ]
  },
  {
   "cell_type": "markdown",
   "metadata": {},
   "source": [
    "It looks that males tend to paid more for medical insurances than females; older males will get the more expensive cost for his medical insurance in comparison to younger males and females in general."
   ]
  },
  {
   "cell_type": "code",
   "execution_count": 23,
   "metadata": {},
   "outputs": [
    {
     "name": "stderr",
     "output_type": "stream",
     "text": [
      "<ipython-input-23-1f20d6394170>:12: MatplotlibDeprecationWarning: Adding an axes using the same arguments as a previous axes currently reuses the earlier instance.  In a future version, a new instance will always be created and returned.  Meanwhile, this warning can be suppressed, and the future behavior ensured, by passing a unique label to each axes instance.\n",
      "  ax = plt.subplot()\n"
     ]
    },
    {
     "data": {
      "text/plain": [
       "<matplotlib.legend.Legend at 0x1f232daa760>"
      ]
     },
     "execution_count": 23,
     "metadata": {},
     "output_type": "execute_result"
    },
    {
     "data": {
      "image/png": "[encoded data removed]",
      "text/plain": [
       "<Figure size 720x576 with 1 Axes>"
      ]
     },
     "metadata": {},
     "output_type": "display_data"
    }
   ],
   "source": [
    "#Creating the plot displaying the distribution\n",
    "generations = [\"Baby Boomer\", \"Gen X\", \"Gen Z\", \"Millenial\"]\n",
    "Female = [18900, 14600, 8900, 10000]  \n",
    "Male = [19800, 16400, 8800, 12000]\n",
    "\n",
    "x = range(4)\n",
    "\n",
    "c_top = np.add(Female, Male)\n",
    "plt.figure(figsize=(10,8))\n",
    "plt.bar(x,Female,color=\"lightpink\")\n",
    "plt.bar(x,Male,color=\"dodgerblue\" ,bottom=Female)\n",
    "ax = plt.subplot()\n",
    "ax.set_xticks(range(len(generations)))\n",
    "ax.set_xticklabels(generations)\n",
    "plt.title(\"U.S Insurance Cost Distribution by Generation Group and Sex\")\n",
    "plt.xlabel(\"Generation Group\")\n",
    "plt.ylabel(\"Thousands of dollars\")\n",
    "plt.legend([\"Female\", \"Male\"])"
   ]
  },
  {
   "cell_type": "markdown",
   "metadata": {},
   "source": [
    "### Medical Insurance Costs by BMI Weight Type"
   ]
  },
  {
   "cell_type": "markdown",
   "metadata": {},
   "source": [
    "The second variable to analyze will be the BMI (Body Mass Index) this has an impact at the moment to get a medical insurance cost, due this index measures if we have a healthy body or not. An unhealthy body will paid more than a healthy one."
   ]
  },
  {
   "cell_type": "markdown",
   "metadata": {},
   "source": [
    "To get a better control in the BMI data is neccesary to classify it according the type of body, the Centers for Disease Control (CDC) categorizes the BMI into the next groups:\n",
    "\n",
    "\n",
    "| Classification  | BMI Value        | \n",
    "| :------------- | :----------: | \n",
    "|  Underweight        | < 18.5 | \n",
    "| Healthy     | > 18. 5 < 25  | \n",
    "| Overweight         | > 25 < 30  | \n",
    "| Obesity   | > 30  | \n",
    "\n",
    "source = https://www.cdc.gov/obesity/adult/defining.html#:~:text=If%20your%20BMI%20is%20less,falls%20within%20the%20obesity%20range."
   ]
  },
  {
   "cell_type": "code",
   "execution_count": 24,
   "metadata": {
    "scrolled": true
   },
   "outputs": [
    {
     "name": "stdout",
     "output_type": "stream",
     "text": [
      "  Generation group      charges     sex     bmi BMI classification\n",
      "0            Gen Z  16884.92400  female  27.900         Overweight\n",
      "1            Gen Z   1725.55230    male  33.770            Obesity\n",
      "2        Millenial   4449.46200    male  33.000            Obesity\n",
      "3        Millenial  21984.47061    male  22.705            Healthy\n",
      "4        Millenial   3866.85520    male  28.880         Overweight\n"
     ]
    }
   ],
   "source": [
    "#Adding the bmi by group row into a new DF\n",
    "\n",
    "bmi_df = pd.DataFrame(generation_df, columns = [\"Generation group\", \"charges\", \"sex\", \"bmi\"])\n",
    "bmi_df.loc[bmi_df[\"bmi\"] < 18.5, \"BMI classification\"] = \"Underweight\"\n",
    "bmi_df.loc[(bmi_df[\"bmi\"] > 18.5) & (bmi_df[\"bmi\"] <= 25.0), \"BMI classification\"] = \"Healthy\"\n",
    "bmi_df.loc[(bmi_df[\"bmi\"] > 25.0) & (bmi_df[\"bmi\"] <= 30.0), \"BMI classification\"] = \"Overweight\"\n",
    "bmi_df.loc[(bmi_df[\"bmi\"] > 30.0), \"BMI classification\"] = \"Obesity\"\n",
    "\n",
    "print(bmi_df.head())"
   ]
  },
  {
   "cell_type": "code",
   "execution_count": 25,
   "metadata": {},
   "outputs": [
    {
     "data": {
      "text/plain": [
       "(-0.5, 3.5, 0.0, 75000.0)"
      ]
     },
     "execution_count": 25,
     "metadata": {},
     "output_type": "execute_result"
    },
    {
     "data": {
      "image/png": "[encoded data removed]",
      "text/plain": [
       "<Figure size 576x432 with 1 Axes>"
      ]
     },
     "metadata": {},
     "output_type": "display_data"
    }
   ],
   "source": [
    "var_1 = \"BMI classification\"\n",
    "\n",
    "data = pd.concat([bmi_df[\"charges\"], bmi_df[var_1]], axis=1)\n",
    "f, ax = plt.subplots(figsize=(8,6))\n",
    "fig =sns.boxplot(x=var_1, y=\"charges\", data = data)\n",
    "fig.axis(ymin=0,ymax=75000)"
   ]
  },
  {
   "cell_type": "markdown",
   "metadata": {},
   "source": [
    "Although the Underweight body has the highest minimum value the Obesity group is the one who has the most charges by body type. By definition the Obesity increases the risk of health problems and impact directly at the cost of the insurance, on the other hand a healthy body will paid less due does not have a risk of having health problems.\n",
    "\n",
    "Once again adding the sex variable into the BMI group will help to analyze whether a certain sex tend "
   ]
  },
  {
   "cell_type": "code",
   "execution_count": 30,
   "metadata": {},
   "outputs": [
    {
     "data": {
      "text/html": [
       "<div>\n",
       "<style scoped>\n",
       "    .dataframe tbody tr th:only-of-type {\n",
       "        vertical-align: middle;\n",
       "    }\n",
       "\n",
       "    .dataframe tbody tr th {\n",
       "        vertical-align: top;\n",
       "    }\n",
       "\n",
       "    .dataframe thead th {\n",
       "        text-align: right;\n",
       "    }\n",
       "</style>\n",
       "<table border=\"1\" class=\"dataframe\">\n",
       "  <thead>\n",
       "    <tr style=\"text-align: right;\">\n",
       "      <th></th>\n",
       "      <th>BMI classification</th>\n",
       "      <th>sex</th>\n",
       "      <th>charges</th>\n",
       "    </tr>\n",
       "  </thead>\n",
       "  <tbody>\n",
       "    <tr>\n",
       "      <th>0</th>\n",
       "      <td>Healthy</td>\n",
       "      <td>female</td>\n",
       "      <td>$11.0K</td>\n",
       "    </tr>\n",
       "    <tr>\n",
       "      <th>1</th>\n",
       "      <td>Healthy</td>\n",
       "      <td>male</td>\n",
       "      <td>$9.9K</td>\n",
       "    </tr>\n",
       "    <tr>\n",
       "      <th>2</th>\n",
       "      <td>Obesity</td>\n",
       "      <td>female</td>\n",
       "      <td>$14.4K</td>\n",
       "    </tr>\n",
       "    <tr>\n",
       "      <th>3</th>\n",
       "      <td>Obesity</td>\n",
       "      <td>male</td>\n",
       "      <td>$16.6K</td>\n",
       "    </tr>\n",
       "    <tr>\n",
       "      <th>4</th>\n",
       "      <td>Overweight</td>\n",
       "      <td>female</td>\n",
       "      <td>$10.6K</td>\n",
       "    </tr>\n",
       "    <tr>\n",
       "      <th>5</th>\n",
       "      <td>Overweight</td>\n",
       "      <td>male</td>\n",
       "      <td>$11.4K</td>\n",
       "    </tr>\n",
       "    <tr>\n",
       "      <th>6</th>\n",
       "      <td>Underweight</td>\n",
       "      <td>female</td>\n",
       "      <td>$11.0K</td>\n",
       "    </tr>\n",
       "    <tr>\n",
       "      <th>7</th>\n",
       "      <td>Underweight</td>\n",
       "      <td>male</td>\n",
       "      <td>$5.6K</td>\n",
       "    </tr>\n",
       "  </tbody>\n",
       "</table>\n",
       "</div>"
      ],
      "text/plain": [
       "  BMI classification     sex charges\n",
       "0            Healthy  female  $11.0K\n",
       "1            Healthy    male   $9.9K\n",
       "2            Obesity  female  $14.4K\n",
       "3            Obesity    male  $16.6K\n",
       "4         Overweight  female  $10.6K\n",
       "5         Overweight    male  $11.4K\n",
       "6        Underweight  female  $11.0K\n",
       "7        Underweight    male   $5.6K"
      ]
     },
     "execution_count": 30,
     "metadata": {},
     "output_type": "execute_result"
    }
   ],
   "source": [
    "#Grouping by BMI and Sex\n",
    "bmi_df.groupby([\"BMI classification\", \"sex\"])[\"charges\"].mean().apply(currency).reset_index()"
   ]
  },
  {
   "cell_type": "code",
   "execution_count": 35,
   "metadata": {},
   "outputs": [
    {
     "data": {
      "text/plain": [
       "Text(0.5, 1.0, 'Insurance Cost by BMI & Sex')"
      ]
     },
     "execution_count": 35,
     "metadata": {},
     "output_type": "execute_result"
    },
    {
     "data": {
      "text/plain": [
       "<Figure size 1440x1080 with 0 Axes>"
      ]
     },
     "metadata": {},
     "output_type": "display_data"
    },
    {
     "data": {
      "image/png": "[encoded data removed]",
      "text/plain": [
       "<Figure size 432x288 with 1 Axes>"
      ]
     },
     "metadata": {},
     "output_type": "display_data"
    }
   ],
   "source": [
    "#Side by side graph sex and BMI distribution \n",
    "bmi_class = [\"Healthy\", \"Obesity\", \"Overweight\", \"Underweight\"]\n",
    "plt.figure(figsize=(20,15))\n",
    "female_mean = [11000, 14400, 10600, 11000]\n",
    "male_mean = [9900, 16600, 11400, 5600]\n",
    "\n",
    "fig, ax = plt.subplots()\n",
    "y_pos=np.arange(len(bmi_class))\n",
    "plt.bar(y_pos + 0, female_mean, width = 0.4, color = \"lightpink\", label = \"Female\")\n",
    "plt.bar(y_pos + 0.3, male_mean, width = 0.4, color =\"dodgerblue\", label = \"Male\")\n",
    "\n",
    "plt.xticks(y_pos, bmi_class)\n",
    "plt.ylabel(\"Thousands of Dollars\")\n",
    "plt.xlabel(\"BMI Class\")\n",
    "plt.legend((\"Females\", \"Males\"))\n",
    "plt.title(\"Insurance Cost by BMI & Sex\")"
   ]
  },
  {
   "cell_type": "markdown",
   "metadata": {},
   "source": [
    "Males are more prone to be heavier than females, the Obesity and Overweight BMI are more current into males than females; on the other hand females tend to have a healthier bodies than males. The Underweight BMI shows that women tend to suffer more from this than males."
   ]
  },
  {
   "cell_type": "code",
   "execution_count": 61,
   "metadata": {},
   "outputs": [
    {
     "data": {
      "text/html": [
       "<div>\n",
       "<style scoped>\n",
       "    .dataframe tbody tr th:only-of-type {\n",
       "        vertical-align: middle;\n",
       "    }\n",
       "\n",
       "    .dataframe tbody tr th {\n",
       "        vertical-align: top;\n",
       "    }\n",
       "\n",
       "    .dataframe thead th {\n",
       "        text-align: right;\n",
       "    }\n",
       "</style>\n",
       "<table border=\"1\" class=\"dataframe\">\n",
       "  <thead>\n",
       "    <tr style=\"text-align: right;\">\n",
       "      <th></th>\n",
       "      <th>BMI classification</th>\n",
       "      <th>sex</th>\n",
       "      <th>Generation group</th>\n",
       "    </tr>\n",
       "  </thead>\n",
       "  <tbody>\n",
       "    <tr>\n",
       "      <th>0</th>\n",
       "      <td>Healthy</td>\n",
       "      <td>female</td>\n",
       "      <td>114</td>\n",
       "    </tr>\n",
       "    <tr>\n",
       "      <th>1</th>\n",
       "      <td>Healthy</td>\n",
       "      <td>male</td>\n",
       "      <td>106</td>\n",
       "    </tr>\n",
       "    <tr>\n",
       "      <th>2</th>\n",
       "      <td>Obesity</td>\n",
       "      <td>female</td>\n",
       "      <td>329</td>\n",
       "    </tr>\n",
       "    <tr>\n",
       "      <th>3</th>\n",
       "      <td>Obesity</td>\n",
       "      <td>male</td>\n",
       "      <td>365</td>\n",
       "    </tr>\n",
       "    <tr>\n",
       "      <th>4</th>\n",
       "      <td>Overweight</td>\n",
       "      <td>female</td>\n",
       "      <td>192</td>\n",
       "    </tr>\n",
       "    <tr>\n",
       "      <th>5</th>\n",
       "      <td>Overweight</td>\n",
       "      <td>male</td>\n",
       "      <td>183</td>\n",
       "    </tr>\n",
       "    <tr>\n",
       "      <th>6</th>\n",
       "      <td>Underweight</td>\n",
       "      <td>female</td>\n",
       "      <td>12</td>\n",
       "    </tr>\n",
       "    <tr>\n",
       "      <th>7</th>\n",
       "      <td>Underweight</td>\n",
       "      <td>male</td>\n",
       "      <td>8</td>\n",
       "    </tr>\n",
       "  </tbody>\n",
       "</table>\n",
       "</div>"
      ],
      "text/plain": [
       "  BMI classification     sex  Generation group\n",
       "0            Healthy  female               114\n",
       "1            Healthy    male               106\n",
       "2            Obesity  female               329\n",
       "3            Obesity    male               365\n",
       "4         Overweight  female               192\n",
       "5         Overweight    male               183\n",
       "6        Underweight  female                12\n",
       "7        Underweight    male                 8"
      ]
     },
     "execution_count": 61,
     "metadata": {},
     "output_type": "execute_result"
    }
   ],
   "source": [
    "#Counting the BMI classification by sex\n",
    "bmi_df.groupby([\"BMI classification\", \"sex\"])[\"Generation group\"].count().reset_index()"
   ]
  },
  {
   "cell_type": "markdown",
   "metadata": {},
   "source": [
    "At last, one outliers that has been appearing in the box plots is whether a person smokes or not. Smoking is an habit that increases the risk of getting lung cancer or heart problems. By grouping the data into Non Smokers and Smokers will help to visualize how impact at the cost."
   ]
  },
  {
   "cell_type": "code",
   "execution_count": 79,
   "metadata": {},
   "outputs": [
    {
     "data": {
      "text/plain": [
       "<matplotlib.axes._subplots.AxesSubplot at 0x1f235fd77f0>"
      ]
     },
     "execution_count": 79,
     "metadata": {},
     "output_type": "execute_result"
    },
    {
     "data": {
      "image/png": "[encoded data removed]",
      "text/plain": [
       "<Figure size 432x288 with 1 Axes>"
      ]
     },
     "metadata": {},
     "output_type": "display_data"
    }
   ],
   "source": [
    "#Grouping by Non Smokers & Smokers\n",
    "smoker_df = pd.DataFrame(insurance_data,columns=[\"charges\", \"smoker\", \"sex\"])\n",
    "\n",
    "#Creating the boxplot by smoking habit\n",
    "sns.boxplot(x = \"smoker\", y = \"charges\", data = smoker_df)"
   ]
  },
  {
   "cell_type": "markdown",
   "metadata": {},
   "source": [
    "A person who does not have the smoking paid in average around less than 10,000 USD anually per medical insurances; on the other hand a person who smokes by average paid around 35,000 USD an increase of nearly quadruple than someone that does not have this habtit. "
   ]
  },
  {
   "cell_type": "markdown",
   "metadata": {},
   "source": [
    "By results:\n",
    "\n",
    " - Older generations paid more for medical insurance cost than young ones.\n",
    " - On the dataset Males suffer more Obesity or Overweight than females, both variables who impact on the cost.\n",
    " - Smoking increases significally the cost of an medical insurance."
   ]
  }
 ],
 "metadata": {
  "kernelspec": {
   "display_name": "Python 3",
   "language": "python",
   "name": "python3"
  },
  "language_info": {
   "codemirror_mode": {
    "name": "ipython",
    "version": 3
   },
   "file_extension": ".py",
   "mimetype": "text/x-python",
   "name": "python",
   "nbconvert_exporter": "python",
   "pygments_lexer": "ipython3",
   "version": "3.8.3"
  }
 },
 "nbformat": 4,
 "nbformat_minor": 4
}
